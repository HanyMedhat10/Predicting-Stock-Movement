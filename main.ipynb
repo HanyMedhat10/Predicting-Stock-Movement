{
 "cells": [
  {
   "cell_type": "code",
   "execution_count": 1,
   "metadata": {},
   "outputs": [],
   "source": [
    "import pandas as pd\n",
    "import matplotlib.pyplot as plt\n",
    "from sklearn import model_selection,metrics,svm\n",
    "from sklearn.feature_extraction.text import TfidfVectorizer\n",
    "# nltk\n",
    "import nltk\n",
    "from nltk.stem import WordNetLemmatizer\n",
    "from nltk.corpus import stopwords\n",
    "from nltk.tokenize import word_tokenize\n",
    "\n",
    "import warnings\n",
    "warnings.filterwarnings('ignore')\n",
    "import re\n",
    "import string\n",
    "import pickle\n"
   ]
  },
  {
   "cell_type": "code",
   "execution_count": 2,
   "metadata": {},
   "outputs": [
    {
     "data": {
      "text/html": [
       "<div>\n",
       "<style scoped>\n",
       "    .dataframe tbody tr th:only-of-type {\n",
       "        vertical-align: middle;\n",
       "    }\n",
       "\n",
       "    .dataframe tbody tr th {\n",
       "        vertical-align: top;\n",
       "    }\n",
       "\n",
       "    .dataframe thead th {\n",
       "        text-align: right;\n",
       "    }\n",
       "</style>\n",
       "<table border=\"1\" class=\"dataframe\">\n",
       "  <thead>\n",
       "    <tr style=\"text-align: right;\">\n",
       "      <th></th>\n",
       "      <th>polarity</th>\n",
       "      <th>id</th>\n",
       "      <th>date</th>\n",
       "      <th>query</th>\n",
       "      <th>user</th>\n",
       "      <th>text</th>\n",
       "    </tr>\n",
       "  </thead>\n",
       "  <tbody>\n",
       "    <tr>\n",
       "      <th>0</th>\n",
       "      <td>0</td>\n",
       "      <td>1467810369</td>\n",
       "      <td>Mon Apr 06 22:19:45 PDT 2009</td>\n",
       "      <td>NO_QUERY</td>\n",
       "      <td>_TheSpecialOne_</td>\n",
       "      <td>@switchfoot http://twitpic.com/2y1zl - Awww, t...</td>\n",
       "    </tr>\n",
       "    <tr>\n",
       "      <th>1</th>\n",
       "      <td>0</td>\n",
       "      <td>1467810672</td>\n",
       "      <td>Mon Apr 06 22:19:49 PDT 2009</td>\n",
       "      <td>NO_QUERY</td>\n",
       "      <td>scotthamilton</td>\n",
       "      <td>is upset that he can't update his Facebook by ...</td>\n",
       "    </tr>\n",
       "    <tr>\n",
       "      <th>2</th>\n",
       "      <td>0</td>\n",
       "      <td>1467810917</td>\n",
       "      <td>Mon Apr 06 22:19:53 PDT 2009</td>\n",
       "      <td>NO_QUERY</td>\n",
       "      <td>mattycus</td>\n",
       "      <td>@Kenichan I dived many times for the ball. Man...</td>\n",
       "    </tr>\n",
       "    <tr>\n",
       "      <th>3</th>\n",
       "      <td>0</td>\n",
       "      <td>1467811184</td>\n",
       "      <td>Mon Apr 06 22:19:57 PDT 2009</td>\n",
       "      <td>NO_QUERY</td>\n",
       "      <td>ElleCTF</td>\n",
       "      <td>my whole body feels itchy and like its on fire</td>\n",
       "    </tr>\n",
       "    <tr>\n",
       "      <th>4</th>\n",
       "      <td>0</td>\n",
       "      <td>1467811193</td>\n",
       "      <td>Mon Apr 06 22:19:57 PDT 2009</td>\n",
       "      <td>NO_QUERY</td>\n",
       "      <td>Karoli</td>\n",
       "      <td>@nationwideclass no, it's not behaving at all....</td>\n",
       "    </tr>\n",
       "    <tr>\n",
       "      <th>...</th>\n",
       "      <td>...</td>\n",
       "      <td>...</td>\n",
       "      <td>...</td>\n",
       "      <td>...</td>\n",
       "      <td>...</td>\n",
       "      <td>...</td>\n",
       "    </tr>\n",
       "    <tr>\n",
       "      <th>1599995</th>\n",
       "      <td>4</td>\n",
       "      <td>2193601966</td>\n",
       "      <td>Tue Jun 16 08:40:49 PDT 2009</td>\n",
       "      <td>NO_QUERY</td>\n",
       "      <td>AmandaMarie1028</td>\n",
       "      <td>Just woke up. Having no school is the best fee...</td>\n",
       "    </tr>\n",
       "    <tr>\n",
       "      <th>1599996</th>\n",
       "      <td>4</td>\n",
       "      <td>2193601969</td>\n",
       "      <td>Tue Jun 16 08:40:49 PDT 2009</td>\n",
       "      <td>NO_QUERY</td>\n",
       "      <td>TheWDBoards</td>\n",
       "      <td>TheWDB.com - Very cool to hear old Walt interv...</td>\n",
       "    </tr>\n",
       "    <tr>\n",
       "      <th>1599997</th>\n",
       "      <td>4</td>\n",
       "      <td>2193601991</td>\n",
       "      <td>Tue Jun 16 08:40:49 PDT 2009</td>\n",
       "      <td>NO_QUERY</td>\n",
       "      <td>bpbabe</td>\n",
       "      <td>Are you ready for your MoJo Makeover? Ask me f...</td>\n",
       "    </tr>\n",
       "    <tr>\n",
       "      <th>1599998</th>\n",
       "      <td>4</td>\n",
       "      <td>2193602064</td>\n",
       "      <td>Tue Jun 16 08:40:49 PDT 2009</td>\n",
       "      <td>NO_QUERY</td>\n",
       "      <td>tinydiamondz</td>\n",
       "      <td>Happy 38th Birthday to my boo of alll time!!! ...</td>\n",
       "    </tr>\n",
       "    <tr>\n",
       "      <th>1599999</th>\n",
       "      <td>4</td>\n",
       "      <td>2193602129</td>\n",
       "      <td>Tue Jun 16 08:40:50 PDT 2009</td>\n",
       "      <td>NO_QUERY</td>\n",
       "      <td>RyanTrevMorris</td>\n",
       "      <td>happy #charitytuesday @theNSPCC @SparksCharity...</td>\n",
       "    </tr>\n",
       "  </tbody>\n",
       "</table>\n",
       "<p>1600000 rows × 6 columns</p>\n",
       "</div>"
      ],
      "text/plain": [
       "         polarity          id                          date     query  \\\n",
       "0               0  1467810369  Mon Apr 06 22:19:45 PDT 2009  NO_QUERY   \n",
       "1               0  1467810672  Mon Apr 06 22:19:49 PDT 2009  NO_QUERY   \n",
       "2               0  1467810917  Mon Apr 06 22:19:53 PDT 2009  NO_QUERY   \n",
       "3               0  1467811184  Mon Apr 06 22:19:57 PDT 2009  NO_QUERY   \n",
       "4               0  1467811193  Mon Apr 06 22:19:57 PDT 2009  NO_QUERY   \n",
       "...           ...         ...                           ...       ...   \n",
       "1599995         4  2193601966  Tue Jun 16 08:40:49 PDT 2009  NO_QUERY   \n",
       "1599996         4  2193601969  Tue Jun 16 08:40:49 PDT 2009  NO_QUERY   \n",
       "1599997         4  2193601991  Tue Jun 16 08:40:49 PDT 2009  NO_QUERY   \n",
       "1599998         4  2193602064  Tue Jun 16 08:40:49 PDT 2009  NO_QUERY   \n",
       "1599999         4  2193602129  Tue Jun 16 08:40:50 PDT 2009  NO_QUERY   \n",
       "\n",
       "                    user                                               text  \n",
       "0        _TheSpecialOne_  @switchfoot http://twitpic.com/2y1zl - Awww, t...  \n",
       "1          scotthamilton  is upset that he can't update his Facebook by ...  \n",
       "2               mattycus  @Kenichan I dived many times for the ball. Man...  \n",
       "3                ElleCTF    my whole body feels itchy and like its on fire   \n",
       "4                 Karoli  @nationwideclass no, it's not behaving at all....  \n",
       "...                  ...                                                ...  \n",
       "1599995  AmandaMarie1028  Just woke up. Having no school is the best fee...  \n",
       "1599996      TheWDBoards  TheWDB.com - Very cool to hear old Walt interv...  \n",
       "1599997           bpbabe  Are you ready for your MoJo Makeover? Ask me f...  \n",
       "1599998     tinydiamondz  Happy 38th Birthday to my boo of alll time!!! ...  \n",
       "1599999   RyanTrevMorris  happy #charitytuesday @theNSPCC @SparksCharity...  \n",
       "\n",
       "[1600000 rows x 6 columns]"
      ]
     },
     "execution_count": 2,
     "metadata": {},
     "output_type": "execute_result"
    }
   ],
   "source": [
    "dataSet = pd.read_csv('./dataset.csv',encoding='latin', names = ['polarity','id','date','query','user','text'])\n",
    "dataSet"
   ]
  },
  {
   "cell_type": "code",
   "execution_count": 3,
   "metadata": {},
   "outputs": [],
   "source": [
    "dataSet = dataSet.sample(frac=1)\n",
    "dataSet = dataSet[:400000]"
   ]
  },
  {
   "cell_type": "code",
   "execution_count": 4,
   "metadata": {},
   "outputs": [
    {
     "data": {
      "text/html": [
       "<div>\n",
       "<style scoped>\n",
       "    .dataframe tbody tr th:only-of-type {\n",
       "        vertical-align: middle;\n",
       "    }\n",
       "\n",
       "    .dataframe tbody tr th {\n",
       "        vertical-align: top;\n",
       "    }\n",
       "\n",
       "    .dataframe thead th {\n",
       "        text-align: right;\n",
       "    }\n",
       "</style>\n",
       "<table border=\"1\" class=\"dataframe\">\n",
       "  <thead>\n",
       "    <tr style=\"text-align: right;\">\n",
       "      <th></th>\n",
       "      <th>polarity</th>\n",
       "      <th>id</th>\n",
       "      <th>date</th>\n",
       "      <th>query</th>\n",
       "      <th>user</th>\n",
       "      <th>text</th>\n",
       "    </tr>\n",
       "  </thead>\n",
       "  <tbody>\n",
       "    <tr>\n",
       "      <th>22635</th>\n",
       "      <td>0</td>\n",
       "      <td>1557533664</td>\n",
       "      <td>Sun Apr 19 04:41:12 PDT 2009</td>\n",
       "      <td>NO_QUERY</td>\n",
       "      <td>Tatterededges</td>\n",
       "      <td>My Macbook has had ALL the problems associated...</td>\n",
       "    </tr>\n",
       "    <tr>\n",
       "      <th>13708</th>\n",
       "      <td>0</td>\n",
       "      <td>1553364154</td>\n",
       "      <td>Sat Apr 18 14:04:07 PDT 2009</td>\n",
       "      <td>NO_QUERY</td>\n",
       "      <td>zomgitsamanda</td>\n",
       "      <td>@MrsKellyBelly I haven't paid it off.  I just ...</td>\n",
       "    </tr>\n",
       "    <tr>\n",
       "      <th>751048</th>\n",
       "      <td>0</td>\n",
       "      <td>2285901284</td>\n",
       "      <td>Mon Jun 22 15:44:02 PDT 2009</td>\n",
       "      <td>NO_QUERY</td>\n",
       "      <td>StephanBarnem</td>\n",
       "      <td>Listening to Radio Amnesia live from Ibiza wit...</td>\n",
       "    </tr>\n",
       "    <tr>\n",
       "      <th>859520</th>\n",
       "      <td>1</td>\n",
       "      <td>1676098658</td>\n",
       "      <td>Fri May 01 21:05:41 PDT 2009</td>\n",
       "      <td>NO_QUERY</td>\n",
       "      <td>dolphintrainer1</td>\n",
       "      <td>@_alover_ yes i did! it was good</td>\n",
       "    </tr>\n",
       "    <tr>\n",
       "      <th>513425</th>\n",
       "      <td>0</td>\n",
       "      <td>2190383086</td>\n",
       "      <td>Tue Jun 16 02:34:16 PDT 2009</td>\n",
       "      <td>NO_QUERY</td>\n",
       "      <td>MonaDeFleur</td>\n",
       "      <td>Gah this is fuuuucking ridiculous  I just need...</td>\n",
       "    </tr>\n",
       "  </tbody>\n",
       "</table>\n",
       "</div>"
      ],
      "text/plain": [
       "        polarity          id                          date     query  \\\n",
       "22635          0  1557533664  Sun Apr 19 04:41:12 PDT 2009  NO_QUERY   \n",
       "13708          0  1553364154  Sat Apr 18 14:04:07 PDT 2009  NO_QUERY   \n",
       "751048         0  2285901284  Mon Jun 22 15:44:02 PDT 2009  NO_QUERY   \n",
       "859520         1  1676098658  Fri May 01 21:05:41 PDT 2009  NO_QUERY   \n",
       "513425         0  2190383086  Tue Jun 16 02:34:16 PDT 2009  NO_QUERY   \n",
       "\n",
       "                   user                                               text  \n",
       "22635     Tatterededges  My Macbook has had ALL the problems associated...  \n",
       "13708     zomgitsamanda  @MrsKellyBelly I haven't paid it off.  I just ...  \n",
       "751048    StephanBarnem  Listening to Radio Amnesia live from Ibiza wit...  \n",
       "859520  dolphintrainer1                  @_alover_ yes i did! it was good   \n",
       "513425      MonaDeFleur  Gah this is fuuuucking ridiculous  I just need...  "
      ]
     },
     "execution_count": 4,
     "metadata": {},
     "output_type": "execute_result"
    }
   ],
   "source": [
    "dataSet['polarity'] = dataSet['polarity'].replace(4,1)\n",
    "dataSet.head()"
   ]
  },
  {
   "cell_type": "code",
   "execution_count": 5,
   "metadata": {},
   "outputs": [
    {
     "data": {
      "text/html": [
       "<div>\n",
       "<style scoped>\n",
       "    .dataframe tbody tr th:only-of-type {\n",
       "        vertical-align: middle;\n",
       "    }\n",
       "\n",
       "    .dataframe tbody tr th {\n",
       "        vertical-align: top;\n",
       "    }\n",
       "\n",
       "    .dataframe thead th {\n",
       "        text-align: right;\n",
       "    }\n",
       "</style>\n",
       "<table border=\"1\" class=\"dataframe\">\n",
       "  <thead>\n",
       "    <tr style=\"text-align: right;\">\n",
       "      <th></th>\n",
       "      <th>polarity</th>\n",
       "      <th>id</th>\n",
       "    </tr>\n",
       "  </thead>\n",
       "  <tbody>\n",
       "    <tr>\n",
       "      <th>count</th>\n",
       "      <td>400000.000000</td>\n",
       "      <td>4.000000e+05</td>\n",
       "    </tr>\n",
       "    <tr>\n",
       "      <th>mean</th>\n",
       "      <td>0.500585</td>\n",
       "      <td>1.998952e+09</td>\n",
       "    </tr>\n",
       "    <tr>\n",
       "      <th>std</th>\n",
       "      <td>0.500000</td>\n",
       "      <td>1.935786e+08</td>\n",
       "    </tr>\n",
       "    <tr>\n",
       "      <th>min</th>\n",
       "      <td>0.000000</td>\n",
       "      <td>1.467812e+09</td>\n",
       "    </tr>\n",
       "    <tr>\n",
       "      <th>25%</th>\n",
       "      <td>0.000000</td>\n",
       "      <td>1.956996e+09</td>\n",
       "    </tr>\n",
       "    <tr>\n",
       "      <th>50%</th>\n",
       "      <td>1.000000</td>\n",
       "      <td>2.002190e+09</td>\n",
       "    </tr>\n",
       "    <tr>\n",
       "      <th>75%</th>\n",
       "      <td>1.000000</td>\n",
       "      <td>2.177047e+09</td>\n",
       "    </tr>\n",
       "    <tr>\n",
       "      <th>max</th>\n",
       "      <td>1.000000</td>\n",
       "      <td>2.329206e+09</td>\n",
       "    </tr>\n",
       "  </tbody>\n",
       "</table>\n",
       "</div>"
      ],
      "text/plain": [
       "            polarity            id\n",
       "count  400000.000000  4.000000e+05\n",
       "mean        0.500585  1.998952e+09\n",
       "std         0.500000  1.935786e+08\n",
       "min         0.000000  1.467812e+09\n",
       "25%         0.000000  1.956996e+09\n",
       "50%         1.000000  2.002190e+09\n",
       "75%         1.000000  2.177047e+09\n",
       "max         1.000000  2.329206e+09"
      ]
     },
     "execution_count": 5,
     "metadata": {},
     "output_type": "execute_result"
    }
   ],
   "source": [
    "dataSet.describe()"
   ]
  },
  {
   "cell_type": "code",
   "execution_count": 6,
   "metadata": {},
   "outputs": [
    {
     "name": "stdout",
     "output_type": "stream",
     "text": [
      "<class 'pandas.core.frame.DataFrame'>\n",
      "Int64Index: 400000 entries, 22635 to 358983\n",
      "Data columns (total 6 columns):\n",
      " #   Column    Non-Null Count   Dtype \n",
      "---  ------    --------------   ----- \n",
      " 0   polarity  400000 non-null  int64 \n",
      " 1   id        400000 non-null  int64 \n",
      " 2   date      400000 non-null  object\n",
      " 3   query     400000 non-null  object\n",
      " 4   user      400000 non-null  object\n",
      " 5   text      400000 non-null  object\n",
      "dtypes: int64(2), object(4)\n",
      "memory usage: 21.4+ MB\n"
     ]
    }
   ],
   "source": [
    "dataSet.info()"
   ]
  },
  {
   "cell_type": "code",
   "execution_count": 7,
   "metadata": {},
   "outputs": [
    {
     "name": "stdout",
     "output_type": "stream",
     "text": [
      "Total length of the data is:         400000\n",
      "No. of positve tagged sentences is:  200234\n",
      "No. of negative tagged sentences is: 199766\n"
     ]
    }
   ],
   "source": [
    "# check the number of positive vs. negative tagged sentences\n",
    "positives = dataSet['polarity'][dataSet.polarity == 1 ]\n",
    "negatives = dataSet['polarity'][dataSet.polarity == 0 ]\n",
    "\n",
    "print('Total length of the data is:         {}'.format(dataSet.shape[0]))\n",
    "print('No. of positve tagged sentences is:  {}'.format(len(positives)))\n",
    "print('No. of negative tagged sentences is: {}'.format(len(negatives)))"
   ]
  },
  {
   "cell_type": "code",
   "execution_count": 8,
   "metadata": {},
   "outputs": [],
   "source": [
    "# get a word count per of text\n",
    "def word_count(words):\n",
    "    return len(words.split())"
   ]
  },
  {
   "cell_type": "code",
   "execution_count": 9,
   "metadata": {},
   "outputs": [
    {
     "data": {
      "text/plain": [
       "<matplotlib.legend.Legend at 0x16d885c6ad0>"
      ]
     },
     "execution_count": 9,
     "metadata": {},
     "output_type": "execute_result"
    },
    {
     "data": {
      "image/png": "[encoded data removed]",
      "text/plain": [
       "<Figure size 1200x600 with 1 Axes>"
      ]
     },
     "metadata": {},
     "output_type": "display_data"
    }
   ],
   "source": [
    "# plot word count distribution for both positive and negative \n",
    "\n",
    "dataSet['word count'] = dataSet['text'].apply(word_count)\n",
    "p = dataSet['word count'][dataSet.polarity == 1]\n",
    "n = dataSet['word count'][dataSet.polarity == 0]\n",
    "plt.figure(figsize=(12,6))\n",
    "plt.xlim(0,45)\n",
    "plt.xlabel('Word count')\n",
    "plt.ylabel('Frequency')\n",
    "g = plt.hist([p, n], color=['g','r'], alpha=0.5, label=['positive','negative'])\n",
    "plt.legend(loc='upper right')"
   ]
  },
  {
   "cell_type": "code",
   "execution_count": 10,
   "metadata": {},
   "outputs": [
    {
     "data": {
      "text/plain": [
       "[('the', 129582),\n",
       " ('and', 73990),\n",
       " ('you', 59093),\n",
       " ('for', 53073),\n",
       " ('have', 36116),\n",
       " ('that', 32406),\n",
       " (\"i'm\", 31995),\n",
       " ('just', 31101),\n",
       " ('but', 30800),\n",
       " ('with', 28284),\n",
       " ('not', 25680),\n",
       " ('was', 25395),\n",
       " ('this', 22051),\n",
       " ('get', 20190),\n",
       " ('good', 19419),\n",
       " ('are', 18963),\n",
       " ('like', 18762),\n",
       " ('all', 18510),\n",
       " ('out', 17115),\n",
       " ('your', 16216)]"
      ]
     },
     "execution_count": 10,
     "metadata": {},
     "output_type": "execute_result"
    }
   ],
   "source": [
    "# get common words in training dataset\n",
    "from collections import Counter\n",
    "all_words = []\n",
    "for line in list(dataSet['text']):\n",
    "    words = line.split()\n",
    "    for word in words:\n",
    "      if(len(word)>2):\n",
    "        all_words.append(word.lower())\n",
    "    \n",
    "    \n",
    "Counter(all_words).most_common(20)"
   ]
  },
  {
   "cell_type": "code",
   "execution_count": 11,
   "metadata": {},
   "outputs": [
    {
     "data": {
      "image/png": "[encoded data removed]",
      "text/plain": [
       "<Figure size 640x480 with 1 Axes>"
      ]
     },
     "metadata": {},
     "output_type": "display_data"
    }
   ],
   "source": [
    "plt.hist(dataSet['polarity'])\n",
    "plt.xlabel('Polarity')\n",
    "plt.ylabel('Count')\n",
    "plt.title('Distribution of Polarity')\n",
    "plt.show()"
   ]
  },
  {
   "cell_type": "code",
   "execution_count": 12,
   "metadata": {},
   "outputs": [],
   "source": [
    "# Removing the unnecessary columns.\n",
    "dataSet.drop(['date','query','user','word count'], axis=1, inplace=True)"
   ]
  },
  {
   "cell_type": "code",
   "execution_count": 13,
   "metadata": {},
   "outputs": [],
   "source": [
    "dataSet.drop('id', axis=1, inplace=True)"
   ]
  },
  {
   "cell_type": "code",
   "execution_count": 14,
   "metadata": {},
   "outputs": [
    {
     "data": {
      "text/html": [
       "<div>\n",
       "<style scoped>\n",
       "    .dataframe tbody tr th:only-of-type {\n",
       "        vertical-align: middle;\n",
       "    }\n",
       "\n",
       "    .dataframe tbody tr th {\n",
       "        vertical-align: top;\n",
       "    }\n",
       "\n",
       "    .dataframe thead th {\n",
       "        text-align: right;\n",
       "    }\n",
       "</style>\n",
       "<table border=\"1\" class=\"dataframe\">\n",
       "  <thead>\n",
       "    <tr style=\"text-align: right;\">\n",
       "      <th></th>\n",
       "      <th>polarity</th>\n",
       "      <th>text</th>\n",
       "    </tr>\n",
       "  </thead>\n",
       "  <tbody>\n",
       "    <tr>\n",
       "      <th>22635</th>\n",
       "      <td>0</td>\n",
       "      <td>My Macbook has had ALL the problems associated...</td>\n",
       "    </tr>\n",
       "    <tr>\n",
       "      <th>13708</th>\n",
       "      <td>0</td>\n",
       "      <td>@MrsKellyBelly I haven't paid it off.  I just ...</td>\n",
       "    </tr>\n",
       "    <tr>\n",
       "      <th>751048</th>\n",
       "      <td>0</td>\n",
       "      <td>Listening to Radio Amnesia live from Ibiza wit...</td>\n",
       "    </tr>\n",
       "    <tr>\n",
       "      <th>859520</th>\n",
       "      <td>1</td>\n",
       "      <td>@_alover_ yes i did! it was good</td>\n",
       "    </tr>\n",
       "    <tr>\n",
       "      <th>513425</th>\n",
       "      <td>0</td>\n",
       "      <td>Gah this is fuuuucking ridiculous  I just need...</td>\n",
       "    </tr>\n",
       "    <tr>\n",
       "      <th>...</th>\n",
       "      <td>...</td>\n",
       "      <td>...</td>\n",
       "    </tr>\n",
       "    <tr>\n",
       "      <th>375128</th>\n",
       "      <td>0</td>\n",
       "      <td>@KhloeKardashian  I have been calling for the ...</td>\n",
       "    </tr>\n",
       "    <tr>\n",
       "      <th>1253230</th>\n",
       "      <td>1</td>\n",
       "      <td>had a lovely day at the shops, eating raspberr...</td>\n",
       "    </tr>\n",
       "    <tr>\n",
       "      <th>1182687</th>\n",
       "      <td>1</td>\n",
       "      <td>@IsaacSTK heyyy  yea i cant wait for summer, r...</td>\n",
       "    </tr>\n",
       "    <tr>\n",
       "      <th>577725</th>\n",
       "      <td>0</td>\n",
       "      <td>@pantherpaws02 I hate you guys  haha just kidd...</td>\n",
       "    </tr>\n",
       "    <tr>\n",
       "      <th>358983</th>\n",
       "      <td>0</td>\n",
       "      <td>@Daneomite I've found that I can't do as effec...</td>\n",
       "    </tr>\n",
       "  </tbody>\n",
       "</table>\n",
       "<p>400000 rows × 2 columns</p>\n",
       "</div>"
      ],
      "text/plain": [
       "         polarity                                               text\n",
       "22635           0  My Macbook has had ALL the problems associated...\n",
       "13708           0  @MrsKellyBelly I haven't paid it off.  I just ...\n",
       "751048          0  Listening to Radio Amnesia live from Ibiza wit...\n",
       "859520          1                  @_alover_ yes i did! it was good \n",
       "513425          0  Gah this is fuuuucking ridiculous  I just need...\n",
       "...           ...                                                ...\n",
       "375128          0  @KhloeKardashian  I have been calling for the ...\n",
       "1253230         1  had a lovely day at the shops, eating raspberr...\n",
       "1182687         1  @IsaacSTK heyyy  yea i cant wait for summer, r...\n",
       "577725          0  @pantherpaws02 I hate you guys  haha just kidd...\n",
       "358983          0  @Daneomite I've found that I can't do as effec...\n",
       "\n",
       "[400000 rows x 2 columns]"
      ]
     },
     "execution_count": 14,
     "metadata": {},
     "output_type": "execute_result"
    }
   ],
   "source": [
    "dataSet"
   ]
  },
  {
   "cell_type": "code",
   "execution_count": 15,
   "metadata": {},
   "outputs": [
    {
     "data": {
      "text/plain": [
       "polarity    0.0\n",
       "text        0.0\n",
       "dtype: float64"
      ]
     },
     "execution_count": 15,
     "metadata": {},
     "output_type": "execute_result"
    }
   ],
   "source": [
    "#Checking if any null values present\n",
    "(dataSet.isnull().sum() / len(dataSet))*100"
   ]
  },
  {
   "cell_type": "code",
   "execution_count": 16,
   "metadata": {},
   "outputs": [],
   "source": [
    "#convrting pandas object to a string type\n",
    "dataSet['text'] = dataSet['text'].astype('str')"
   ]
  },
  {
   "cell_type": "code",
   "execution_count": 17,
   "metadata": {},
   "outputs": [
    {
     "name": "stdout",
     "output_type": "stream",
     "text": [
      "{'before', 'were', \"mustn't\", 'weren', 'in', 'nor', 'me', 'so', 'had', \"hasn't\", 'be', 'o', 'ours', 'same', 'himself', 'being', 'having', \"should've\", 'shouldn', 'your', 'where', 'but', \"isn't\", 'because', 'ma', 'an', 'again', 'wouldn', 'does', 'mustn', 'only', 'll', 'needn', 'on', 'those', 'through', 'no', \"shan't\", \"shouldn't\", 'couldn', 'that', 'down', 'few', 'below', 'whom', 'was', 'what', 'and', 'did', 'of', 'you', \"she's\", \"it's\", 'against', 'between', 'now', 'been', 'when', \"wouldn't\", 'they', 'such', 'm', 're', 'or', 'with', 'under', 'didn', 'is', 'not', 'the', 'wasn', 'am', 'why', 'other', 'up', \"haven't\", 'we', 'than', 'doesn', \"couldn't\", 'which', \"won't\", \"you'd\", 'do', 'our', 'this', 'then', 'very', 've', 'to', 'above', 'out', \"weren't\", 'itself', 'during', 'a', 'own', 'from', \"needn't\", 'theirs', 'i', 'too', 'after', 'myself', \"hadn't\", \"doesn't\", 'have', 's', 'hers', 'all', 'here', 'themselves', 'any', 'my', 'as', 'there', \"that'll\", 'further', 't', 'her', 'once', 'should', 'some', 'each', 'who', 'won', \"wasn't\", 'if', 'just', \"mightn't\", 'isn', \"didn't\", 'yours', 'off', 'over', 'its', 'shan', 'hadn', 'these', 'mightn', 'he', 'how', \"you'll\", 'herself', \"you're\", 'has', 'more', 'y', 'haven', \"aren't\", 'into', 'can', 'don', 'aren', 'yourself', 'are', 'them', 'hasn', 'about', 'd', 'doing', 'both', 'until', 'ourselves', 'at', \"you've\", 'it', 'ain', 'while', 'for', \"don't\", 'she', 'him', 'yourselves', 'his', 'their', 'most', 'will', 'by'}\n"
     ]
    },
    {
     "name": "stderr",
     "output_type": "stream",
     "text": [
      "[nltk_data] Downloading package stopwords to C:\\Users\\Hany\n",
      "[nltk_data]     Medhat\\AppData\\Roaming\\nltk_data...\n",
      "[nltk_data]   Package stopwords is already up-to-date!\n",
      "[nltk_data] Downloading package punkt to C:\\Users\\Hany\n",
      "[nltk_data]     Medhat\\AppData\\Roaming\\nltk_data...\n",
      "[nltk_data]   Package punkt is already up-to-date!\n",
      "[nltk_data] Downloading package wordnet to C:\\Users\\Hany\n",
      "[nltk_data]     Medhat\\AppData\\Roaming\\nltk_data...\n",
      "[nltk_data]   Package wordnet is already up-to-date!\n"
     ]
    },
    {
     "data": {
      "text/plain": [
       "True"
      ]
     },
     "execution_count": 17,
     "metadata": {},
     "output_type": "execute_result"
    }
   ],
   "source": [
    "nltk.download('stopwords')\n",
    "stoPword = set(stopwords.words('english'))\n",
    "print(stoPword)\n",
    "nltk.download('punkt')\n",
    "nltk.download('wordnet')"
   ]
  },
  {
   "cell_type": "markdown",
   "metadata": {},
   "source": [
    "The Preprocessing steps taken are:\n",
    "\n",
    "Lower Casing: Each text is converted to lowercase.\n",
    "Removing URLs: Links starting with \"http\" or \"https\" or \"www\" are replaced by \"\".\n",
    "\n",
    "Removing Usernames: Replace @Usernames with word \"\". (eg: \"@XYZ\" to \"\")\n",
    "\n",
    "Removing Short Words: Words with length less than 2 are removed.\n",
    "Removing Stopwords: Stopwords are the English words which does not add much meaning to a sentence. They can safely be ignored without sacrificing the meaning of the sentence. (eg: \"the\", \"he\", \"have\")\n",
    "Lemmatizing: Lemmatization is the process of converting a word to its base form. (e.g: “wolves” to “wolf”)"
   ]
  },
  {
   "cell_type": "code",
   "execution_count": 18,
   "metadata": {},
   "outputs": [],
   "source": [
    "urlPattern = r\"((http://)[^ ]*|(https://)[^ ]*|( www\\.)[^ ]*)\"\n",
    "userPattern = '@[^\\s]+'\n",
    "def process_tweets(tweet):\n",
    "  # Lower Casing\n",
    "    tweet = tweet.lower()\n",
    "    tweet=tweet[1:]\n",
    "    # Removing all URls \n",
    "    tweet = re.sub(urlPattern,'',tweet)\n",
    "    # Removing all @username.\n",
    "    tweet = re.sub(userPattern,'', tweet) \n",
    "    #Remove punctuations\n",
    "    tweet = tweet.translate(str.maketrans(\"\",\"\",string.punctuation))\n",
    "    #tokenizing words\n",
    "    tokens = word_tokenize(tweet)\n",
    "    #Removing Stop Words\n",
    "    final_tokens = [w for w in tokens if w not in stoPword]\n",
    "    #reducing a word to its word stem \n",
    "    wordLemm = WordNetLemmatizer()\n",
    "    finalwords=[]\n",
    "    for w in final_tokens:\n",
    "      if len(w)>1:\n",
    "        word = wordLemm.lemmatize(w)\n",
    "        finalwords.append(word)\n",
    "    return ' '.join(finalwords)"
   ]
  },
  {
   "cell_type": "code",
   "execution_count": 19,
   "metadata": {},
   "outputs": [
    {
     "name": "stdout",
     "output_type": "stream",
     "text": [
      "Text Preprocessing complete.\n"
     ]
    }
   ],
   "source": [
    "dataSet['processed_tweets'] = dataSet['text'].apply(lambda x: process_tweets(x))\n",
    "print('Text Preprocessing complete.')"
   ]
  },
  {
   "cell_type": "code",
   "execution_count": 20,
   "metadata": {},
   "outputs": [
    {
     "data": {
      "text/html": [
       "<div>\n",
       "<style scoped>\n",
       "    .dataframe tbody tr th:only-of-type {\n",
       "        vertical-align: middle;\n",
       "    }\n",
       "\n",
       "    .dataframe tbody tr th {\n",
       "        vertical-align: top;\n",
       "    }\n",
       "\n",
       "    .dataframe thead th {\n",
       "        text-align: right;\n",
       "    }\n",
       "</style>\n",
       "<table border=\"1\" class=\"dataframe\">\n",
       "  <thead>\n",
       "    <tr style=\"text-align: right;\">\n",
       "      <th></th>\n",
       "      <th>polarity</th>\n",
       "      <th>text</th>\n",
       "      <th>processed_tweets</th>\n",
       "    </tr>\n",
       "  </thead>\n",
       "  <tbody>\n",
       "    <tr>\n",
       "      <th>22635</th>\n",
       "      <td>0</td>\n",
       "      <td>My Macbook has had ALL the problems associated...</td>\n",
       "      <td>macbook problem associated macbooks flickering...</td>\n",
       "    </tr>\n",
       "    <tr>\n",
       "      <th>13708</th>\n",
       "      <td>0</td>\n",
       "      <td>@MrsKellyBelly I haven't paid it off.  I just ...</td>\n",
       "      <td>mrskellybelly havent paid cut husband would qu...</td>\n",
       "    </tr>\n",
       "    <tr>\n",
       "      <th>751048</th>\n",
       "      <td>0</td>\n",
       "      <td>Listening to Radio Amnesia live from Ibiza wit...</td>\n",
       "      <td>istening radio amnesia live ibiza richies set ...</td>\n",
       "    </tr>\n",
       "    <tr>\n",
       "      <th>859520</th>\n",
       "      <td>1</td>\n",
       "      <td>@_alover_ yes i did! it was good</td>\n",
       "      <td>alover yes good</td>\n",
       "    </tr>\n",
       "    <tr>\n",
       "      <th>513425</th>\n",
       "      <td>0</td>\n",
       "      <td>Gah this is fuuuucking ridiculous  I just need...</td>\n",
       "      <td>ah fuuuucking ridiculous need bloody doctor te...</td>\n",
       "    </tr>\n",
       "    <tr>\n",
       "      <th>925383</th>\n",
       "      <td>1</td>\n",
       "      <td>At home, gonna spend some much needed time wit...</td>\n",
       "      <td>home gon na spend much needed time mother</td>\n",
       "    </tr>\n",
       "    <tr>\n",
       "      <th>173181</th>\n",
       "      <td>0</td>\n",
       "      <td>@lil_kimmeh Me too, I miss it.  I, however, wi...</td>\n",
       "      <td>lilkimmeh miss however humpthestump rest life</td>\n",
       "    </tr>\n",
       "    <tr>\n",
       "      <th>1480878</th>\n",
       "      <td>1</td>\n",
       "      <td>@anjlishah alright sounds nice, well enjoy and...</td>\n",
       "      <td>anjlishah alright sound nice well enjoy ill ta...</td>\n",
       "    </tr>\n",
       "    <tr>\n",
       "      <th>1496199</th>\n",
       "      <td>1</td>\n",
       "      <td>I think we have cute mormon boys..just those t...</td>\n",
       "      <td>think cute mormon boysjust two though 23</td>\n",
       "    </tr>\n",
       "    <tr>\n",
       "      <th>90020</th>\n",
       "      <td>0</td>\n",
       "      <td>Have to do like the entire final draft of my H...</td>\n",
       "      <td>ave like entire final draft history paper lame</td>\n",
       "    </tr>\n",
       "  </tbody>\n",
       "</table>\n",
       "</div>"
      ],
      "text/plain": [
       "         polarity                                               text  \\\n",
       "22635           0  My Macbook has had ALL the problems associated...   \n",
       "13708           0  @MrsKellyBelly I haven't paid it off.  I just ...   \n",
       "751048          0  Listening to Radio Amnesia live from Ibiza wit...   \n",
       "859520          1                  @_alover_ yes i did! it was good    \n",
       "513425          0  Gah this is fuuuucking ridiculous  I just need...   \n",
       "925383          1  At home, gonna spend some much needed time wit...   \n",
       "173181          0  @lil_kimmeh Me too, I miss it.  I, however, wi...   \n",
       "1480878         1  @anjlishah alright sounds nice, well enjoy and...   \n",
       "1496199         1  I think we have cute mormon boys..just those t...   \n",
       "90020           0  Have to do like the entire final draft of my H...   \n",
       "\n",
       "                                          processed_tweets  \n",
       "22635    macbook problem associated macbooks flickering...  \n",
       "13708    mrskellybelly havent paid cut husband would qu...  \n",
       "751048   istening radio amnesia live ibiza richies set ...  \n",
       "859520                                     alover yes good  \n",
       "513425   ah fuuuucking ridiculous need bloody doctor te...  \n",
       "925383           home gon na spend much needed time mother  \n",
       "173181       lilkimmeh miss however humpthestump rest life  \n",
       "1480878  anjlishah alright sound nice well enjoy ill ta...  \n",
       "1496199           think cute mormon boysjust two though 23  \n",
       "90020       ave like entire final draft history paper lame  "
      ]
     },
     "execution_count": 20,
     "metadata": {},
     "output_type": "execute_result"
    }
   ],
   "source": [
    "dataSet.head(10)"
   ]
  },
  {
   "cell_type": "markdown",
   "metadata": {},
   "source": [
    "Word-Cloud for Positive tweets."
   ]
  },
  {
   "cell_type": "markdown",
   "metadata": {},
   "source": [
    "Vectorization and Splitting the data \n",
    "\n",
    "Storing input variable-processes_tweets to X and output variable-polarity to y"
   ]
  },
  {
   "cell_type": "code",
   "execution_count": 21,
   "metadata": {},
   "outputs": [],
   "source": [
    "x = dataSet['processed_tweets'].values\n",
    "y = dataSet['polarity'].values"
   ]
  },
  {
   "cell_type": "code",
   "execution_count": 22,
   "metadata": {},
   "outputs": [
    {
     "data": {
      "text/plain": [
       "((400000,), (400000,))"
      ]
     },
     "execution_count": 22,
     "metadata": {},
     "output_type": "execute_result"
    }
   ],
   "source": [
    "x.shape , y.shape "
   ]
  },
  {
   "cell_type": "markdown",
   "metadata": {},
   "source": [
    "Convert text to word frequency vectors\n",
    "\n",
    "TF-IDF\n",
    "\n",
    "This is an acronym than stands for Term Frequency – Inverse Document Frequency which are the components of the resulting scores assigned to each word.\n",
    "\n",
    "Term Frequency: This summarizes how often a given word appears within a document.\n",
    "Inverse Document Frequency: This downscales words that appear a lot across documents."
   ]
  },
  {
   "cell_type": "code",
   "execution_count": 23,
   "metadata": {},
   "outputs": [],
   "source": [
    "#Convert a collection of raw documents to a matrix of TF-IDF features.\n",
    "vector = TfidfVectorizer(sublinear_tf=True)\n",
    "x = vector.fit_transform(x)\n"
   ]
  },
  {
   "cell_type": "code",
   "execution_count": 24,
   "metadata": {},
   "outputs": [],
   "source": [
    "x_train, x_test, y_train, y_test = model_selection.train_test_split(x,y,test_size=.3,random_state=42)"
   ]
  },
  {
   "cell_type": "code",
   "execution_count": 25,
   "metadata": {},
   "outputs": [
    {
     "data": {
      "text/plain": [
       "((280000, 284002), (120000, 284002), (280000,), (120000,))"
      ]
     },
     "execution_count": 25,
     "metadata": {},
     "output_type": "execute_result"
    }
   ],
   "source": [
    "x_train.shape,x_test.shape,y_train.shape,y_test.shape"
   ]
  },
  {
   "cell_type": "code",
   "execution_count": 26,
   "metadata": {},
   "outputs": [
    {
     "data": {
      "text/html": [
       "<style>#sk-container-id-1 {color: black;background-color: white;}#sk-container-id-1 pre{padding: 0;}#sk-container-id-1 div.sk-toggleable {background-color: white;}#sk-container-id-1 label.sk-toggleable__label {cursor: pointer;display: block;width: 100%;margin-bottom: 0;padding: 0.3em;box-sizing: border-box;text-align: center;}#sk-container-id-1 label.sk-toggleable__label-arrow:before {content: \"▸\";float: left;margin-right: 0.25em;color: #696969;}#sk-container-id-1 label.sk-toggleable__label-arrow:hover:before {color: black;}#sk-container-id-1 div.sk-estimator:hover label.sk-toggleable__label-arrow:before {color: black;}#sk-container-id-1 div.sk-toggleable__content {max-height: 0;max-width: 0;overflow: hidden;text-align: left;background-color: #f0f8ff;}#sk-container-id-1 div.sk-toggleable__content pre {margin: 0.2em;color: black;border-radius: 0.25em;background-color: #f0f8ff;}#sk-container-id-1 input.sk-toggleable__control:checked~div.sk-toggleable__content {max-height: 200px;max-width: 100%;overflow: auto;}#sk-container-id-1 input.sk-toggleable__control:checked~label.sk-toggleable__label-arrow:before {content: \"▾\";}#sk-container-id-1 div.sk-estimator input.sk-toggleable__control:checked~label.sk-toggleable__label {background-color: #d4ebff;}#sk-container-id-1 div.sk-label input.sk-toggleable__control:checked~label.sk-toggleable__label {background-color: #d4ebff;}#sk-container-id-1 input.sk-hidden--visually {border: 0;clip: rect(1px 1px 1px 1px);clip: rect(1px, 1px, 1px, 1px);height: 1px;margin: -1px;overflow: hidden;padding: 0;position: absolute;width: 1px;}#sk-container-id-1 div.sk-estimator {font-family: monospace;background-color: #f0f8ff;border: 1px dotted black;border-radius: 0.25em;box-sizing: border-box;margin-bottom: 0.5em;}#sk-container-id-1 div.sk-estimator:hover {background-color: #d4ebff;}#sk-container-id-1 div.sk-parallel-item::after {content: \"\";width: 100%;border-bottom: 1px solid gray;flex-grow: 1;}#sk-container-id-1 div.sk-label:hover label.sk-toggleable__label {background-color: #d4ebff;}#sk-container-id-1 div.sk-serial::before {content: \"\";position: absolute;border-left: 1px solid gray;box-sizing: border-box;top: 0;bottom: 0;left: 50%;z-index: 0;}#sk-container-id-1 div.sk-serial {display: flex;flex-direction: column;align-items: center;background-color: white;padding-right: 0.2em;padding-left: 0.2em;position: relative;}#sk-container-id-1 div.sk-item {position: relative;z-index: 1;}#sk-container-id-1 div.sk-parallel {display: flex;align-items: stretch;justify-content: center;background-color: white;position: relative;}#sk-container-id-1 div.sk-item::before, #sk-container-id-1 div.sk-parallel-item::before {content: \"\";position: absolute;border-left: 1px solid gray;box-sizing: border-box;top: 0;bottom: 0;left: 50%;z-index: -1;}#sk-container-id-1 div.sk-parallel-item {display: flex;flex-direction: column;z-index: 1;position: relative;background-color: white;}#sk-container-id-1 div.sk-parallel-item:first-child::after {align-self: flex-end;width: 50%;}#sk-container-id-1 div.sk-parallel-item:last-child::after {align-self: flex-start;width: 50%;}#sk-container-id-1 div.sk-parallel-item:only-child::after {width: 0;}#sk-container-id-1 div.sk-dashed-wrapped {border: 1px dashed gray;margin: 0 0.4em 0.5em 0.4em;box-sizing: border-box;padding-bottom: 0.4em;background-color: white;}#sk-container-id-1 div.sk-label label {font-family: monospace;font-weight: bold;display: inline-block;line-height: 1.2em;}#sk-container-id-1 div.sk-label-container {text-align: center;}#sk-container-id-1 div.sk-container {/* jupyter's `normalize.less` sets `[hidden] { display: none; }` but bootstrap.min.css set `[hidden] { display: none !important; }` so we also need the `!important` here to be able to override the default hidden behavior on the sphinx rendered scikit-learn.org. See: https://github.com/scikit-learn/scikit-learn/issues/21755 */display: inline-block !important;position: relative;}#sk-container-id-1 div.sk-text-repr-fallback {display: none;}</style><div id=\"sk-container-id-1\" class=\"sk-top-container\"><div class=\"sk-text-repr-fallback\"><pre>SVC(kernel=&#x27;linear&#x27;)</pre><b>In a Jupyter environment, please rerun this cell to show the HTML representation or trust the notebook. <br />On GitHub, the HTML representation is unable to render, please try loading this page with nbviewer.org.</b></div><div class=\"sk-container\" hidden><div class=\"sk-item\"><div class=\"sk-estimator sk-toggleable\"><input class=\"sk-toggleable__control sk-hidden--visually\" id=\"sk-estimator-id-1\" type=\"checkbox\" checked><label for=\"sk-estimator-id-1\" class=\"sk-toggleable__label sk-toggleable__label-arrow\">SVC</label><div class=\"sk-toggleable__content\"><pre>SVC(kernel=&#x27;linear&#x27;)</pre></div></div></div></div></div>"
      ],
      "text/plain": [
       "SVC(kernel='linear')"
      ]
     },
     "execution_count": 26,
     "metadata": {},
     "output_type": "execute_result"
    }
   ],
   "source": [
    "svmC=svm.SVC(kernel='linear')\n",
    "svmC.fit(x_train,y_train)"
   ]
  },
  {
   "cell_type": "code",
   "execution_count": 27,
   "metadata": {},
   "outputs": [],
   "source": [
    "y_pred=svmC.predict(x_test)"
   ]
  },
  {
   "cell_type": "code",
   "execution_count": 28,
   "metadata": {},
   "outputs": [
    {
     "data": {
      "text/plain": [
       "0.7735833333333333"
      ]
     },
     "execution_count": 28,
     "metadata": {},
     "output_type": "execute_result"
    }
   ],
   "source": [
    "metrics.accuracy_score(y_test,y_pred)"
   ]
  },
  {
   "cell_type": "code",
   "execution_count": 29,
   "metadata": {},
   "outputs": [],
   "source": [
    "file = open('SVM.pickle','wb')\n",
    "pickle.dump(svmC, file)\n",
    "file.close()"
   ]
  }
 ],
 "metadata": {
  "kernelspec": {
   "display_name": "Python 3",
   "language": "python",
   "name": "python3"
  },
  "language_info": {
   "codemirror_mode": {
    "name": "ipython",
    "version": 3
   },
   "file_extension": ".py",
   "mimetype": "text/x-python",
   "name": "python",
   "nbconvert_exporter": "python",
   "pygments_lexer": "ipython3",
   "version": "3.11.4"
  }
 },
 "nbformat": 4,
 "nbformat_minor": 2
}
