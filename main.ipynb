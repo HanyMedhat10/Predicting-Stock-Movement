{
 "cells": [
  {
   "cell_type": "code",
   "execution_count": 1,
   "metadata": {},
   "outputs": [],
   "source": [
    "import pandas as pd\n",
    "import matplotlib.pyplot as plt\n",
    "from sklearn import model_selection,metrics,svm\n",
    "from sklearn.feature_extraction.text import TfidfVectorizer\n",
    "# nltk\n",
    "import nltk\n",
    "from nltk.stem import WordNetLemmatizer\n",
    "from nltk.corpus import stopwords\n",
    "from nltk.tokenize import word_tokenize\n",
    "\n",
    "import warnings\n",
    "warnings.filterwarnings('ignore')\n",
    "import re\n",
    "import string\n",
    "import pickle\n"
   ]
  },
  {
   "cell_type": "code",
   "execution_count": 2,
   "metadata": {},
   "outputs": [
    {
     "data": {
      "text/html": [
       "<div>\n",
       "<style scoped>\n",
       "    .dataframe tbody tr th:only-of-type {\n",
       "        vertical-align: middle;\n",
       "    }\n",
       "\n",
       "    .dataframe tbody tr th {\n",
       "        vertical-align: top;\n",
       "    }\n",
       "\n",
       "    .dataframe thead th {\n",
       "        text-align: right;\n",
       "    }\n",
       "</style>\n",
       "<table border=\"1\" class=\"dataframe\">\n",
       "  <thead>\n",
       "    <tr style=\"text-align: right;\">\n",
       "      <th></th>\n",
       "      <th>polarity</th>\n",
       "      <th>id</th>\n",
       "      <th>date</th>\n",
       "      <th>query</th>\n",
       "      <th>user</th>\n",
       "      <th>text</th>\n",
       "    </tr>\n",
       "  </thead>\n",
       "  <tbody>\n",
       "    <tr>\n",
       "      <th>0</th>\n",
       "      <td>0</td>\n",
       "      <td>1467810369</td>\n",
       "      <td>Mon Apr 06 22:19:45 PDT 2009</td>\n",
       "      <td>NO_QUERY</td>\n",
       "      <td>_TheSpecialOne_</td>\n",
       "      <td>@switchfoot http://twitpic.com/2y1zl - Awww, t...</td>\n",
       "    </tr>\n",
       "    <tr>\n",
       "      <th>1</th>\n",
       "      <td>0</td>\n",
       "      <td>1467810672</td>\n",
       "      <td>Mon Apr 06 22:19:49 PDT 2009</td>\n",
       "      <td>NO_QUERY</td>\n",
       "      <td>scotthamilton</td>\n",
       "      <td>is upset that he can't update his Facebook by ...</td>\n",
       "    </tr>\n",
       "    <tr>\n",
       "      <th>2</th>\n",
       "      <td>0</td>\n",
       "      <td>1467810917</td>\n",
       "      <td>Mon Apr 06 22:19:53 PDT 2009</td>\n",
       "      <td>NO_QUERY</td>\n",
       "      <td>mattycus</td>\n",
       "      <td>@Kenichan I dived many times for the ball. Man...</td>\n",
       "    </tr>\n",
       "    <tr>\n",
       "      <th>3</th>\n",
       "      <td>0</td>\n",
       "      <td>1467811184</td>\n",
       "      <td>Mon Apr 06 22:19:57 PDT 2009</td>\n",
       "      <td>NO_QUERY</td>\n",
       "      <td>ElleCTF</td>\n",
       "      <td>my whole body feels itchy and like its on fire</td>\n",
       "    </tr>\n",
       "    <tr>\n",
       "      <th>4</th>\n",
       "      <td>0</td>\n",
       "      <td>1467811193</td>\n",
       "      <td>Mon Apr 06 22:19:57 PDT 2009</td>\n",
       "      <td>NO_QUERY</td>\n",
       "      <td>Karoli</td>\n",
       "      <td>@nationwideclass no, it's not behaving at all....</td>\n",
       "    </tr>\n",
       "    <tr>\n",
       "      <th>...</th>\n",
       "      <td>...</td>\n",
       "      <td>...</td>\n",
       "      <td>...</td>\n",
       "      <td>...</td>\n",
       "      <td>...</td>\n",
       "      <td>...</td>\n",
       "    </tr>\n",
       "    <tr>\n",
       "      <th>1599995</th>\n",
       "      <td>4</td>\n",
       "      <td>2193601966</td>\n",
       "      <td>Tue Jun 16 08:40:49 PDT 2009</td>\n",
       "      <td>NO_QUERY</td>\n",
       "      <td>AmandaMarie1028</td>\n",
       "      <td>Just woke up. Having no school is the best fee...</td>\n",
       "    </tr>\n",
       "    <tr>\n",
       "      <th>1599996</th>\n",
       "      <td>4</td>\n",
       "      <td>2193601969</td>\n",
       "      <td>Tue Jun 16 08:40:49 PDT 2009</td>\n",
       "      <td>NO_QUERY</td>\n",
       "      <td>TheWDBoards</td>\n",
       "      <td>TheWDB.com - Very cool to hear old Walt interv...</td>\n",
       "    </tr>\n",
       "    <tr>\n",
       "      <th>1599997</th>\n",
       "      <td>4</td>\n",
       "      <td>2193601991</td>\n",
       "      <td>Tue Jun 16 08:40:49 PDT 2009</td>\n",
       "      <td>NO_QUERY</td>\n",
       "      <td>bpbabe</td>\n",
       "      <td>Are you ready for your MoJo Makeover? Ask me f...</td>\n",
       "    </tr>\n",
       "    <tr>\n",
       "      <th>1599998</th>\n",
       "      <td>4</td>\n",
       "      <td>2193602064</td>\n",
       "      <td>Tue Jun 16 08:40:49 PDT 2009</td>\n",
       "      <td>NO_QUERY</td>\n",
       "      <td>tinydiamondz</td>\n",
       "      <td>Happy 38th Birthday to my boo of alll time!!! ...</td>\n",
       "    </tr>\n",
       "    <tr>\n",
       "      <th>1599999</th>\n",
       "      <td>4</td>\n",
       "      <td>2193602129</td>\n",
       "      <td>Tue Jun 16 08:40:50 PDT 2009</td>\n",
       "      <td>NO_QUERY</td>\n",
       "      <td>RyanTrevMorris</td>\n",
       "      <td>happy #charitytuesday @theNSPCC @SparksCharity...</td>\n",
       "    </tr>\n",
       "  </tbody>\n",
       "</table>\n",
       "<p>1600000 rows × 6 columns</p>\n",
       "</div>"
      ],
      "text/plain": [
       "         polarity          id                          date     query  \\\n",
       "0               0  1467810369  Mon Apr 06 22:19:45 PDT 2009  NO_QUERY   \n",
       "1               0  1467810672  Mon Apr 06 22:19:49 PDT 2009  NO_QUERY   \n",
       "2               0  1467810917  Mon Apr 06 22:19:53 PDT 2009  NO_QUERY   \n",
       "3               0  1467811184  Mon Apr 06 22:19:57 PDT 2009  NO_QUERY   \n",
       "4               0  1467811193  Mon Apr 06 22:19:57 PDT 2009  NO_QUERY   \n",
       "...           ...         ...                           ...       ...   \n",
       "1599995         4  2193601966  Tue Jun 16 08:40:49 PDT 2009  NO_QUERY   \n",
       "1599996         4  2193601969  Tue Jun 16 08:40:49 PDT 2009  NO_QUERY   \n",
       "1599997         4  2193601991  Tue Jun 16 08:40:49 PDT 2009  NO_QUERY   \n",
       "1599998         4  2193602064  Tue Jun 16 08:40:49 PDT 2009  NO_QUERY   \n",
       "1599999         4  2193602129  Tue Jun 16 08:40:50 PDT 2009  NO_QUERY   \n",
       "\n",
       "                    user                                               text  \n",
       "0        _TheSpecialOne_  @switchfoot http://twitpic.com/2y1zl - Awww, t...  \n",
       "1          scotthamilton  is upset that he can't update his Facebook by ...  \n",
       "2               mattycus  @Kenichan I dived many times for the ball. Man...  \n",
       "3                ElleCTF    my whole body feels itchy and like its on fire   \n",
       "4                 Karoli  @nationwideclass no, it's not behaving at all....  \n",
       "...                  ...                                                ...  \n",
       "1599995  AmandaMarie1028  Just woke up. Having no school is the best fee...  \n",
       "1599996      TheWDBoards  TheWDB.com - Very cool to hear old Walt interv...  \n",
       "1599997           bpbabe  Are you ready for your MoJo Makeover? Ask me f...  \n",
       "1599998     tinydiamondz  Happy 38th Birthday to my boo of alll time!!! ...  \n",
       "1599999   RyanTrevMorris  happy #charitytuesday @theNSPCC @SparksCharity...  \n",
       "\n",
       "[1600000 rows x 6 columns]"
      ]
     },
     "execution_count": 2,
     "metadata": {},
     "output_type": "execute_result"
    }
   ],
   "source": [
    "dataSet = pd.read_csv('./dataset.csv',encoding='latin', names = ['polarity','id','date','query','user','text'])\n",
    "dataSet"
   ]
  },
  {
   "cell_type": "code",
   "execution_count": 3,
   "metadata": {},
   "outputs": [],
   "source": [
    "dataSet = dataSet.sample(frac=1)\n",
    "dataSet = dataSet[:400000]"
   ]
  },
  {
   "cell_type": "code",
   "execution_count": 4,
   "metadata": {},
   "outputs": [
    {
     "data": {
      "text/html": [
       "<div>\n",
       "<style scoped>\n",
       "    .dataframe tbody tr th:only-of-type {\n",
       "        vertical-align: middle;\n",
       "    }\n",
       "\n",
       "    .dataframe tbody tr th {\n",
       "        vertical-align: top;\n",
       "    }\n",
       "\n",
       "    .dataframe thead th {\n",
       "        text-align: right;\n",
       "    }\n",
       "</style>\n",
       "<table border=\"1\" class=\"dataframe\">\n",
       "  <thead>\n",
       "    <tr style=\"text-align: right;\">\n",
       "      <th></th>\n",
       "      <th>polarity</th>\n",
       "      <th>id</th>\n",
       "      <th>date</th>\n",
       "      <th>query</th>\n",
       "      <th>user</th>\n",
       "      <th>text</th>\n",
       "    </tr>\n",
       "  </thead>\n",
       "  <tbody>\n",
       "    <tr>\n",
       "      <th>216024</th>\n",
       "      <td>0</td>\n",
       "      <td>1975614399</td>\n",
       "      <td>Sat May 30 15:31:52 PDT 2009</td>\n",
       "      <td>NO_QUERY</td>\n",
       "      <td>CreanP</td>\n",
       "      <td>Sittin at home lookin after my Sister   Had a ...</td>\n",
       "    </tr>\n",
       "    <tr>\n",
       "      <th>142349</th>\n",
       "      <td>0</td>\n",
       "      <td>1881468983</td>\n",
       "      <td>Fri May 22 04:45:08 PDT 2009</td>\n",
       "      <td>NO_QUERY</td>\n",
       "      <td>antonettearco</td>\n",
       "      <td>why is it that things which i love to happen o...</td>\n",
       "    </tr>\n",
       "    <tr>\n",
       "      <th>1167872</th>\n",
       "      <td>1</td>\n",
       "      <td>1980092054</td>\n",
       "      <td>Sun May 31 05:39:27 PDT 2009</td>\n",
       "      <td>NO_QUERY</td>\n",
       "      <td>sminisapixie</td>\n",
       "      <td>@Magickk that kid only got through on sympathy...</td>\n",
       "    </tr>\n",
       "    <tr>\n",
       "      <th>1220025</th>\n",
       "      <td>1</td>\n",
       "      <td>1990009705</td>\n",
       "      <td>Mon Jun 01 03:34:35 PDT 2009</td>\n",
       "      <td>NO_QUERY</td>\n",
       "      <td>cobrastyle93</td>\n",
       "      <td>morning! today is day 2 of graduation practice...</td>\n",
       "    </tr>\n",
       "    <tr>\n",
       "      <th>476642</th>\n",
       "      <td>0</td>\n",
       "      <td>2177941256</td>\n",
       "      <td>Mon Jun 15 06:57:08 PDT 2009</td>\n",
       "      <td>NO_QUERY</td>\n",
       "      <td>pentacular</td>\n",
       "      <td>@enkeli I've tried various discs. All get chop...</td>\n",
       "    </tr>\n",
       "  </tbody>\n",
       "</table>\n",
       "</div>"
      ],
      "text/plain": [
       "         polarity          id                          date     query  \\\n",
       "216024          0  1975614399  Sat May 30 15:31:52 PDT 2009  NO_QUERY   \n",
       "142349          0  1881468983  Fri May 22 04:45:08 PDT 2009  NO_QUERY   \n",
       "1167872         1  1980092054  Sun May 31 05:39:27 PDT 2009  NO_QUERY   \n",
       "1220025         1  1990009705  Mon Jun 01 03:34:35 PDT 2009  NO_QUERY   \n",
       "476642          0  2177941256  Mon Jun 15 06:57:08 PDT 2009  NO_QUERY   \n",
       "\n",
       "                  user                                               text  \n",
       "216024          CreanP  Sittin at home lookin after my Sister   Had a ...  \n",
       "142349   antonettearco  why is it that things which i love to happen o...  \n",
       "1167872   sminisapixie  @Magickk that kid only got through on sympathy...  \n",
       "1220025   cobrastyle93  morning! today is day 2 of graduation practice...  \n",
       "476642      pentacular  @enkeli I've tried various discs. All get chop...  "
      ]
     },
     "execution_count": 4,
     "metadata": {},
     "output_type": "execute_result"
    }
   ],
   "source": [
    "dataSet['polarity'] = dataSet['polarity'].replace(4,1)\n",
    "dataSet.head()"
   ]
  },
  {
   "cell_type": "code",
   "execution_count": 5,
   "metadata": {},
   "outputs": [
    {
     "data": {
      "text/html": [
       "<div>\n",
       "<style scoped>\n",
       "    .dataframe tbody tr th:only-of-type {\n",
       "        vertical-align: middle;\n",
       "    }\n",
       "\n",
       "    .dataframe tbody tr th {\n",
       "        vertical-align: top;\n",
       "    }\n",
       "\n",
       "    .dataframe thead th {\n",
       "        text-align: right;\n",
       "    }\n",
       "</style>\n",
       "<table border=\"1\" class=\"dataframe\">\n",
       "  <thead>\n",
       "    <tr style=\"text-align: right;\">\n",
       "      <th></th>\n",
       "      <th>polarity</th>\n",
       "      <th>id</th>\n",
       "    </tr>\n",
       "  </thead>\n",
       "  <tbody>\n",
       "    <tr>\n",
       "      <th>count</th>\n",
       "      <td>400000.000000</td>\n",
       "      <td>4.000000e+05</td>\n",
       "    </tr>\n",
       "    <tr>\n",
       "      <th>mean</th>\n",
       "      <td>0.500058</td>\n",
       "      <td>1.998979e+09</td>\n",
       "    </tr>\n",
       "    <tr>\n",
       "      <th>std</th>\n",
       "      <td>0.500001</td>\n",
       "      <td>1.937261e+08</td>\n",
       "    </tr>\n",
       "    <tr>\n",
       "      <th>min</th>\n",
       "      <td>0.000000</td>\n",
       "      <td>1.467813e+09</td>\n",
       "    </tr>\n",
       "    <tr>\n",
       "      <th>25%</th>\n",
       "      <td>0.000000</td>\n",
       "      <td>1.956886e+09</td>\n",
       "    </tr>\n",
       "    <tr>\n",
       "      <th>50%</th>\n",
       "      <td>1.000000</td>\n",
       "      <td>2.002210e+09</td>\n",
       "    </tr>\n",
       "    <tr>\n",
       "      <th>75%</th>\n",
       "      <td>1.000000</td>\n",
       "      <td>2.177176e+09</td>\n",
       "    </tr>\n",
       "    <tr>\n",
       "      <th>max</th>\n",
       "      <td>1.000000</td>\n",
       "      <td>2.329205e+09</td>\n",
       "    </tr>\n",
       "  </tbody>\n",
       "</table>\n",
       "</div>"
      ],
      "text/plain": [
       "            polarity            id\n",
       "count  400000.000000  4.000000e+05\n",
       "mean        0.500058  1.998979e+09\n",
       "std         0.500001  1.937261e+08\n",
       "min         0.000000  1.467813e+09\n",
       "25%         0.000000  1.956886e+09\n",
       "50%         1.000000  2.002210e+09\n",
       "75%         1.000000  2.177176e+09\n",
       "max         1.000000  2.329205e+09"
      ]
     },
     "execution_count": 5,
     "metadata": {},
     "output_type": "execute_result"
    }
   ],
   "source": [
    "dataSet.describe()"
   ]
  },
  {
   "cell_type": "code",
   "execution_count": 6,
   "metadata": {},
   "outputs": [
    {
     "name": "stdout",
     "output_type": "stream",
     "text": [
      "<class 'pandas.core.frame.DataFrame'>\n",
      "Int64Index: 400000 entries, 216024 to 121356\n",
      "Data columns (total 6 columns):\n",
      " #   Column    Non-Null Count   Dtype \n",
      "---  ------    --------------   ----- \n",
      " 0   polarity  400000 non-null  int64 \n",
      " 1   id        400000 non-null  int64 \n",
      " 2   date      400000 non-null  object\n",
      " 3   query     400000 non-null  object\n",
      " 4   user      400000 non-null  object\n",
      " 5   text      400000 non-null  object\n",
      "dtypes: int64(2), object(4)\n",
      "memory usage: 21.4+ MB\n"
     ]
    }
   ],
   "source": [
    "dataSet.info()"
   ]
  },
  {
   "cell_type": "code",
   "execution_count": 7,
   "metadata": {},
   "outputs": [
    {
     "name": "stdout",
     "output_type": "stream",
     "text": [
      "Total length of the data is:         400000\n",
      "No. of positve tagged sentences is:  200023\n",
      "No. of negative tagged sentences is: 199977\n"
     ]
    }
   ],
   "source": [
    "# check the number of positive vs. negative tagged sentences\n",
    "positives = dataSet['polarity'][dataSet.polarity == 1 ]\n",
    "negatives = dataSet['polarity'][dataSet.polarity == 0 ]\n",
    "\n",
    "print('Total length of the data is:         {}'.format(dataSet.shape[0]))\n",
    "print('No. of positve tagged sentences is:  {}'.format(len(positives)))\n",
    "print('No. of negative tagged sentences is: {}'.format(len(negatives)))"
   ]
  },
  {
   "cell_type": "code",
   "execution_count": 8,
   "metadata": {},
   "outputs": [],
   "source": [
    "# get a word count per of text\n",
    "def word_count(words):\n",
    "    return len(words.split())"
   ]
  },
  {
   "cell_type": "code",
   "execution_count": 9,
   "metadata": {},
   "outputs": [
    {
     "data": {
      "text/plain": [
       "<matplotlib.legend.Legend at 0x26f4cfff3d0>"
      ]
     },
     "execution_count": 9,
     "metadata": {},
     "output_type": "execute_result"
    },
    {
     "data": {
      "image/png": "[encoded data removed]",
      "text/plain": [
       "<Figure size 1200x600 with 1 Axes>"
      ]
     },
     "metadata": {},
     "output_type": "display_data"
    }
   ],
   "source": [
    "# plot word count distribution for both positive and negative \n",
    "\n",
    "dataSet['word count'] = dataSet['text'].apply(word_count)\n",
    "p = dataSet['word count'][dataSet.polarity == 1]\n",
    "n = dataSet['word count'][dataSet.polarity == 0]\n",
    "plt.figure(figsize=(12,6))\n",
    "plt.xlim(0,45)\n",
    "plt.xlabel('Word count')\n",
    "plt.ylabel('Frequency')\n",
    "g = plt.hist([p, n], color=['g','r'], alpha=0.5, label=['positive','negative'])\n",
    "plt.legend(loc='upper right')"
   ]
  },
  {
   "cell_type": "code",
   "execution_count": 10,
   "metadata": {},
   "outputs": [
    {
     "data": {
      "text/plain": [
       "[('the', 129318),\n",
       " ('and', 74278),\n",
       " ('you', 59789),\n",
       " ('for', 53504),\n",
       " ('have', 35832),\n",
       " ('that', 32250),\n",
       " (\"i'm\", 31965),\n",
       " ('but', 31345),\n",
       " ('just', 31171),\n",
       " ('with', 28350),\n",
       " ('was', 25907),\n",
       " ('not', 25686),\n",
       " ('this', 22053),\n",
       " ('get', 20401),\n",
       " ('good', 19441),\n",
       " ('like', 19036),\n",
       " ('are', 18881),\n",
       " ('all', 18501),\n",
       " ('out', 17377),\n",
       " (\"it's\", 16237)]"
      ]
     },
     "execution_count": 10,
     "metadata": {},
     "output_type": "execute_result"
    }
   ],
   "source": [
    "# get common words in training dataset\n",
    "from collections import Counter\n",
    "all_words = []\n",
    "for line in list(dataSet['text']):\n",
    "    words = line.split()\n",
    "    for word in words:\n",
    "      if(len(word)>2):\n",
    "        all_words.append(word.lower())\n",
    "    \n",
    "    \n",
    "Counter(all_words).most_common(20)"
   ]
  },
  {
   "cell_type": "code",
   "execution_count": 11,
   "metadata": {},
   "outputs": [
    {
     "data": {
      "image/png": "[encoded data removed]",
      "text/plain": [
       "<Figure size 640x480 with 1 Axes>"
      ]
     },
     "metadata": {},
     "output_type": "display_data"
    }
   ],
   "source": [
    "plt.hist(dataSet['polarity'])\n",
    "plt.xlabel('Polarity')\n",
    "plt.ylabel('Count')\n",
    "plt.title('Distribution of Polarity')\n",
    "plt.show()"
   ]
  },
  {
   "cell_type": "code",
   "execution_count": 12,
   "metadata": {},
   "outputs": [],
   "source": [
    "# Removing the unnecessary columns.\n",
    "dataSet.drop(['date','query','user','word count'], axis=1, inplace=True)"
   ]
  },
  {
   "cell_type": "code",
   "execution_count": 13,
   "metadata": {},
   "outputs": [],
   "source": [
    "dataSet.drop('id', axis=1, inplace=True)"
   ]
  },
  {
   "cell_type": "code",
   "execution_count": 14,
   "metadata": {},
   "outputs": [
    {
     "data": {
      "text/html": [
       "<div>\n",
       "<style scoped>\n",
       "    .dataframe tbody tr th:only-of-type {\n",
       "        vertical-align: middle;\n",
       "    }\n",
       "\n",
       "    .dataframe tbody tr th {\n",
       "        vertical-align: top;\n",
       "    }\n",
       "\n",
       "    .dataframe thead th {\n",
       "        text-align: right;\n",
       "    }\n",
       "</style>\n",
       "<table border=\"1\" class=\"dataframe\">\n",
       "  <thead>\n",
       "    <tr style=\"text-align: right;\">\n",
       "      <th></th>\n",
       "      <th>polarity</th>\n",
       "      <th>text</th>\n",
       "    </tr>\n",
       "  </thead>\n",
       "  <tbody>\n",
       "    <tr>\n",
       "      <th>216024</th>\n",
       "      <td>0</td>\n",
       "      <td>Sittin at home lookin after my Sister   Had a ...</td>\n",
       "    </tr>\n",
       "    <tr>\n",
       "      <th>142349</th>\n",
       "      <td>0</td>\n",
       "      <td>why is it that things which i love to happen o...</td>\n",
       "    </tr>\n",
       "    <tr>\n",
       "      <th>1167872</th>\n",
       "      <td>1</td>\n",
       "      <td>@Magickk that kid only got through on sympathy...</td>\n",
       "    </tr>\n",
       "    <tr>\n",
       "      <th>1220025</th>\n",
       "      <td>1</td>\n",
       "      <td>morning! today is day 2 of graduation practice...</td>\n",
       "    </tr>\n",
       "    <tr>\n",
       "      <th>476642</th>\n",
       "      <td>0</td>\n",
       "      <td>@enkeli I've tried various discs. All get chop...</td>\n",
       "    </tr>\n",
       "    <tr>\n",
       "      <th>...</th>\n",
       "      <td>...</td>\n",
       "      <td>...</td>\n",
       "    </tr>\n",
       "    <tr>\n",
       "      <th>802368</th>\n",
       "      <td>1</td>\n",
       "      <td>@Flying_hei Yes, thanks - just about to get so...</td>\n",
       "    </tr>\n",
       "    <tr>\n",
       "      <th>254076</th>\n",
       "      <td>0</td>\n",
       "      <td>I really should go to bed. 04:30 will be a rud...</td>\n",
       "    </tr>\n",
       "    <tr>\n",
       "      <th>365470</th>\n",
       "      <td>0</td>\n",
       "      <td>@WOAHAmber</td>\n",
       "    </tr>\n",
       "    <tr>\n",
       "      <th>1543546</th>\n",
       "      <td>1</td>\n",
       "      <td>@anniebody LOL...thanks</td>\n",
       "    </tr>\n",
       "    <tr>\n",
       "      <th>121356</th>\n",
       "      <td>0</td>\n",
       "      <td>Dane Cook kind of scares me, but I still like ...</td>\n",
       "    </tr>\n",
       "  </tbody>\n",
       "</table>\n",
       "<p>400000 rows × 2 columns</p>\n",
       "</div>"
      ],
      "text/plain": [
       "         polarity                                               text\n",
       "216024          0  Sittin at home lookin after my Sister   Had a ...\n",
       "142349          0  why is it that things which i love to happen o...\n",
       "1167872         1  @Magickk that kid only got through on sympathy...\n",
       "1220025         1  morning! today is day 2 of graduation practice...\n",
       "476642          0  @enkeli I've tried various discs. All get chop...\n",
       "...           ...                                                ...\n",
       "802368          1  @Flying_hei Yes, thanks - just about to get so...\n",
       "254076          0  I really should go to bed. 04:30 will be a rud...\n",
       "365470          0                                        @WOAHAmber \n",
       "1543546         1                           @anniebody LOL...thanks \n",
       "121356          0  Dane Cook kind of scares me, but I still like ...\n",
       "\n",
       "[400000 rows x 2 columns]"
      ]
     },
     "execution_count": 14,
     "metadata": {},
     "output_type": "execute_result"
    }
   ],
   "source": [
    "dataSet"
   ]
  },
  {
   "cell_type": "code",
   "execution_count": 15,
   "metadata": {},
   "outputs": [
    {
     "data": {
      "text/plain": [
       "polarity    0.0\n",
       "text        0.0\n",
       "dtype: float64"
      ]
     },
     "execution_count": 15,
     "metadata": {},
     "output_type": "execute_result"
    }
   ],
   "source": [
    "#Checking if any null values present\n",
    "(dataSet.isnull().sum() / len(dataSet))*100"
   ]
  },
  {
   "cell_type": "code",
   "execution_count": 16,
   "metadata": {},
   "outputs": [],
   "source": [
    "#convrting pandas object to a string type\n",
    "dataSet['text'] = dataSet['text'].astype('str')"
   ]
  },
  {
   "cell_type": "code",
   "execution_count": 17,
   "metadata": {},
   "outputs": [
    {
     "name": "stdout",
     "output_type": "stream",
     "text": [
      "{'which', 'been', \"you'll\", 'her', 'shouldn', 'for', 'most', 'here', 'about', 'mustn', 'those', 'she', 'a', 'should', 'you', 'couldn', 'while', 'below', 'your', 'more', 'isn', 'out', 'each', \"aren't\", 'if', 'under', 's', 'will', 'm', \"shan't\", 'in', 'i', 'off', 'doesn', 'any', 'why', 'so', 'having', 'further', \"hadn't\", 'few', 'now', 'with', \"she's\", 'between', 'had', 'hasn', 'on', 'me', 'from', \"haven't\", 'just', 'after', 'y', 're', 'hadn', 'herself', 'its', 'them', 'he', 'this', 'up', 'was', 't', 'and', 'yourselves', \"mightn't\", 'our', 'myself', 'there', 'his', 'do', 'than', 've', 'wasn', 'have', \"wasn't\", 'the', 'at', 'is', 'him', 'own', 'ma', 'hers', 'my', \"it's\", 'above', 'against', 'their', 'ours', 'same', 'were', \"shouldn't\", 'of', 'd', 'll', 'are', 'we', 'themselves', 'over', 'aren', 'both', 'before', 'to', 'through', 'o', 'yourself', 'didn', 'when', \"you'd\", \"should've\", \"weren't\", 'these', \"you're\", 'then', 'that', 'other', 'again', 'can', 'they', 'himself', 'all', 'am', 'shan', 'theirs', 'being', 'only', \"wouldn't\", 'down', 'ain', 'into', \"doesn't\", 'itself', \"couldn't\", 'as', 'mightn', 'but', 'too', \"you've\", \"hasn't\", 'won', \"won't\", 'very', 'haven', 'it', \"that'll\", 'be', 'what', 'an', 'during', 'ourselves', 'wouldn', 'who', 'once', 'how', \"mustn't\", \"don't\", 'because', 'does', 'until', 'where', 'by', 'has', \"needn't\", 'needn', 'or', 'doing', 'some', 'weren', 'did', 'don', \"isn't\", 'not', 'no', 'nor', 'whom', \"didn't\", 'yours', 'such'}\n"
     ]
    },
    {
     "name": "stderr",
     "output_type": "stream",
     "text": [
      "[nltk_data] Downloading package stopwords to C:\\Users\\Hany\n",
      "[nltk_data]     Medhat\\AppData\\Roaming\\nltk_data...\n",
      "[nltk_data]   Package stopwords is already up-to-date!\n",
      "[nltk_data] Downloading package punkt to C:\\Users\\Hany\n",
      "[nltk_data]     Medhat\\AppData\\Roaming\\nltk_data...\n",
      "[nltk_data]   Package punkt is already up-to-date!\n",
      "[nltk_data] Downloading package wordnet to C:\\Users\\Hany\n",
      "[nltk_data]     Medhat\\AppData\\Roaming\\nltk_data...\n",
      "[nltk_data]   Package wordnet is already up-to-date!\n"
     ]
    },
    {
     "data": {
      "text/plain": [
       "True"
      ]
     },
     "execution_count": 17,
     "metadata": {},
     "output_type": "execute_result"
    }
   ],
   "source": [
    "nltk.download('stopwords')\n",
    "stoPword = set(stopwords.words('english'))\n",
    "print(stoPword)\n",
    "nltk.download('punkt')\n",
    "nltk.download('wordnet')"
   ]
  },
  {
   "cell_type": "markdown",
   "metadata": {},
   "source": [
    "The Preprocessing steps taken are:\n",
    "\n",
    "Lower Casing: Each text is converted to lowercase.\n",
    "Removing URLs: Links starting with \"http\" or \"https\" or \"www\" are replaced by \"\".\n",
    "\n",
    "Removing Usernames: Replace @Usernames with word \"\". (eg: \"@XYZ\" to \"\")\n",
    "\n",
    "Removing Short Words: Words with length less than 2 are removed.\n",
    "Removing Stopwords: Stopwords are the English words which does not add much meaning to a sentence. They can safely be ignored without sacrificing the meaning of the sentence. (eg: \"the\", \"he\", \"have\")\n",
    "Lemmatizing: Lemmatization is the process of converting a word to its base form. (e.g: “wolves” to “wolf”)"
   ]
  },
  {
   "cell_type": "code",
   "execution_count": 18,
   "metadata": {},
   "outputs": [],
   "source": [
    "urlPattern = r\"((http://)[^ ]*|(https://)[^ ]*|( www\\.)[^ ]*)\"\n",
    "userPattern = '@[^\\s]+'\n",
    "def process_tweets(tweet):\n",
    "  # Lower Casing\n",
    "    tweet = tweet.lower()\n",
    "    tweet=tweet[1:]\n",
    "    # Removing all URls \n",
    "    tweet = re.sub(urlPattern,'',tweet)\n",
    "    # Removing all @username.\n",
    "    tweet = re.sub(userPattern,'', tweet) \n",
    "    #Remove punctuations\n",
    "    tweet = tweet.translate(str.maketrans(\"\",\"\",string.punctuation))\n",
    "    #tokenizing words\n",
    "    tokens = word_tokenize(tweet)\n",
    "    #Removing Stop Words\n",
    "    final_tokens = [w for w in tokens if w not in stoPword]\n",
    "    #reducing a word to its word stem \n",
    "    wordLemm = WordNetLemmatizer()\n",
    "    finalwords=[]\n",
    "    for w in final_tokens:\n",
    "      if len(w)>1:\n",
    "        word = wordLemm.lemmatize(w)\n",
    "        finalwords.append(word)\n",
    "    return ' '.join(finalwords)"
   ]
  },
  {
   "cell_type": "code",
   "execution_count": 19,
   "metadata": {},
   "outputs": [
    {
     "name": "stdout",
     "output_type": "stream",
     "text": [
      "Text Preprocessing complete.\n"
     ]
    }
   ],
   "source": [
    "dataSet['processed_tweets'] = dataSet['text'].apply(lambda x: process_tweets(x))\n",
    "print('Text Preprocessing complete.')"
   ]
  },
  {
   "cell_type": "code",
   "execution_count": 20,
   "metadata": {},
   "outputs": [
    {
     "data": {
      "text/html": [
       "<div>\n",
       "<style scoped>\n",
       "    .dataframe tbody tr th:only-of-type {\n",
       "        vertical-align: middle;\n",
       "    }\n",
       "\n",
       "    .dataframe tbody tr th {\n",
       "        vertical-align: top;\n",
       "    }\n",
       "\n",
       "    .dataframe thead th {\n",
       "        text-align: right;\n",
       "    }\n",
       "</style>\n",
       "<table border=\"1\" class=\"dataframe\">\n",
       "  <thead>\n",
       "    <tr style=\"text-align: right;\">\n",
       "      <th></th>\n",
       "      <th>polarity</th>\n",
       "      <th>text</th>\n",
       "      <th>processed_tweets</th>\n",
       "    </tr>\n",
       "  </thead>\n",
       "  <tbody>\n",
       "    <tr>\n",
       "      <th>216024</th>\n",
       "      <td>0</td>\n",
       "      <td>Sittin at home lookin after my Sister   Had a ...</td>\n",
       "      <td>ittin home lookin sister great day woke super ...</td>\n",
       "    </tr>\n",
       "    <tr>\n",
       "      <th>142349</th>\n",
       "      <td>0</td>\n",
       "      <td>why is it that things which i love to happen o...</td>\n",
       "      <td>hy thing love happen happens people dont even ...</td>\n",
       "    </tr>\n",
       "    <tr>\n",
       "      <th>1167872</th>\n",
       "      <td>1</td>\n",
       "      <td>@Magickk that kid only got through on sympathy...</td>\n",
       "      <td>magickk kid got sympathy vote actually hate vo...</td>\n",
       "    </tr>\n",
       "    <tr>\n",
       "      <th>1220025</th>\n",
       "      <td>1</td>\n",
       "      <td>morning! today is day 2 of graduation practice...</td>\n",
       "      <td>orning today day graduation practice wed big d...</td>\n",
       "    </tr>\n",
       "    <tr>\n",
       "      <th>476642</th>\n",
       "      <td>0</td>\n",
       "      <td>@enkeli I've tried various discs. All get chop...</td>\n",
       "      <td>enkeli ive tried various disc get choppy respo...</td>\n",
       "    </tr>\n",
       "    <tr>\n",
       "      <th>476244</th>\n",
       "      <td>0</td>\n",
       "      <td>I'm REALLY sick.</td>\n",
       "      <td>really sick</td>\n",
       "    </tr>\n",
       "    <tr>\n",
       "      <th>667207</th>\n",
       "      <td>0</td>\n",
       "      <td>@MitsuTrackDay Thanks! It's been sold for a wh...</td>\n",
       "      <td>mitsutrackday thanks sold though</td>\n",
       "    </tr>\n",
       "    <tr>\n",
       "      <th>916834</th>\n",
       "      <td>1</td>\n",
       "      <td>: So wonderful to spend Mother's Day with my m...</td>\n",
       "      <td>wonderful spend mother day mum</td>\n",
       "    </tr>\n",
       "    <tr>\n",
       "      <th>881807</th>\n",
       "      <td>1</td>\n",
       "      <td>@_supernatural_ http://twitpic.com/4gz8j - Any...</td>\n",
       "      <td>supernatural time babe try faint seriously dud...</td>\n",
       "    </tr>\n",
       "    <tr>\n",
       "      <th>909364</th>\n",
       "      <td>1</td>\n",
       "      <td>is enjoying family time. Hoping to be able to ...</td>\n",
       "      <td>enjoying family time hoping able make graceful...</td>\n",
       "    </tr>\n",
       "  </tbody>\n",
       "</table>\n",
       "</div>"
      ],
      "text/plain": [
       "         polarity                                               text  \\\n",
       "216024          0  Sittin at home lookin after my Sister   Had a ...   \n",
       "142349          0  why is it that things which i love to happen o...   \n",
       "1167872         1  @Magickk that kid only got through on sympathy...   \n",
       "1220025         1  morning! today is day 2 of graduation practice...   \n",
       "476642          0  @enkeli I've tried various discs. All get chop...   \n",
       "476244          0                                  I'm REALLY sick.    \n",
       "667207          0  @MitsuTrackDay Thanks! It's been sold for a wh...   \n",
       "916834          1  : So wonderful to spend Mother's Day with my m...   \n",
       "881807          1  @_supernatural_ http://twitpic.com/4gz8j - Any...   \n",
       "909364          1  is enjoying family time. Hoping to be able to ...   \n",
       "\n",
       "                                          processed_tweets  \n",
       "216024   ittin home lookin sister great day woke super ...  \n",
       "142349   hy thing love happen happens people dont even ...  \n",
       "1167872  magickk kid got sympathy vote actually hate vo...  \n",
       "1220025  orning today day graduation practice wed big d...  \n",
       "476642   enkeli ive tried various disc get choppy respo...  \n",
       "476244                                         really sick  \n",
       "667207                    mitsutrackday thanks sold though  \n",
       "916834                      wonderful spend mother day mum  \n",
       "881807   supernatural time babe try faint seriously dud...  \n",
       "909364   enjoying family time hoping able make graceful...  "
      ]
     },
     "execution_count": 20,
     "metadata": {},
     "output_type": "execute_result"
    }
   ],
   "source": [
    "dataSet.head(10)"
   ]
  },
  {
   "cell_type": "markdown",
   "metadata": {},
   "source": [
    "Word-Cloud for Positive tweets."
   ]
  },
  {
   "cell_type": "markdown",
   "metadata": {},
   "source": [
    "Vectorization and Splitting the data \n",
    "\n",
    "Storing input variable-processes_tweets to X and output variable-polarity to y"
   ]
  },
  {
   "cell_type": "code",
   "execution_count": 21,
   "metadata": {},
   "outputs": [],
   "source": [
    "x = dataSet['processed_tweets'].values\n",
    "y = dataSet['polarity'].values"
   ]
  },
  {
   "cell_type": "code",
   "execution_count": 22,
   "metadata": {},
   "outputs": [
    {
     "data": {
      "text/plain": [
       "((400000,), (400000,))"
      ]
     },
     "execution_count": 22,
     "metadata": {},
     "output_type": "execute_result"
    }
   ],
   "source": [
    "x.shape , y.shape "
   ]
  },
  {
   "cell_type": "markdown",
   "metadata": {},
   "source": [
    "Convert text to word frequency vectors\n",
    "\n",
    "TF-IDF\n",
    "\n",
    "This is an acronym than stands for Term Frequency – Inverse Document Frequency which are the components of the resulting scores assigned to each word.\n",
    "\n",
    "Term Frequency: This summarizes how often a given word appears within a document.\n",
    "Inverse Document Frequency: This downscales words that appear a lot across documents."
   ]
  },
  {
   "cell_type": "code",
   "execution_count": 23,
   "metadata": {},
   "outputs": [],
   "source": [
    "#Convert a collection of raw documents to a matrix of TF-IDF features.\n",
    "vector = TfidfVectorizer(sublinear_tf=True)\n",
    "x = vector.fit_transform(x)\n"
   ]
  },
  {
   "cell_type": "code",
   "execution_count": 24,
   "metadata": {},
   "outputs": [],
   "source": [
    "x_train, x_test, y_train, y_test = model_selection.train_test_split(x,y,test_size=.3,random_state=42,stratify=y)\n",
    "#stratify using Classification"
   ]
  },
  {
   "cell_type": "code",
   "execution_count": 25,
   "metadata": {},
   "outputs": [
    {
     "data": {
      "text/plain": [
       "((280000, 283842), (120000, 283842), (280000,), (120000,))"
      ]
     },
     "execution_count": 25,
     "metadata": {},
     "output_type": "execute_result"
    }
   ],
   "source": [
    "x_train.shape,x_test.shape,y_train.shape,y_test.shape"
   ]
  },
  {
   "cell_type": "code",
   "execution_count": 26,
   "metadata": {},
   "outputs": [
    {
     "data": {
      "text/html": [
       "<style>#sk-container-id-1 {color: black;background-color: white;}#sk-container-id-1 pre{padding: 0;}#sk-container-id-1 div.sk-toggleable {background-color: white;}#sk-container-id-1 label.sk-toggleable__label {cursor: pointer;display: block;width: 100%;margin-bottom: 0;padding: 0.3em;box-sizing: border-box;text-align: center;}#sk-container-id-1 label.sk-toggleable__label-arrow:before {content: \"▸\";float: left;margin-right: 0.25em;color: #696969;}#sk-container-id-1 label.sk-toggleable__label-arrow:hover:before {color: black;}#sk-container-id-1 div.sk-estimator:hover label.sk-toggleable__label-arrow:before {color: black;}#sk-container-id-1 div.sk-toggleable__content {max-height: 0;max-width: 0;overflow: hidden;text-align: left;background-color: #f0f8ff;}#sk-container-id-1 div.sk-toggleable__content pre {margin: 0.2em;color: black;border-radius: 0.25em;background-color: #f0f8ff;}#sk-container-id-1 input.sk-toggleable__control:checked~div.sk-toggleable__content {max-height: 200px;max-width: 100%;overflow: auto;}#sk-container-id-1 input.sk-toggleable__control:checked~label.sk-toggleable__label-arrow:before {content: \"▾\";}#sk-container-id-1 div.sk-estimator input.sk-toggleable__control:checked~label.sk-toggleable__label {background-color: #d4ebff;}#sk-container-id-1 div.sk-label input.sk-toggleable__control:checked~label.sk-toggleable__label {background-color: #d4ebff;}#sk-container-id-1 input.sk-hidden--visually {border: 0;clip: rect(1px 1px 1px 1px);clip: rect(1px, 1px, 1px, 1px);height: 1px;margin: -1px;overflow: hidden;padding: 0;position: absolute;width: 1px;}#sk-container-id-1 div.sk-estimator {font-family: monospace;background-color: #f0f8ff;border: 1px dotted black;border-radius: 0.25em;box-sizing: border-box;margin-bottom: 0.5em;}#sk-container-id-1 div.sk-estimator:hover {background-color: #d4ebff;}#sk-container-id-1 div.sk-parallel-item::after {content: \"\";width: 100%;border-bottom: 1px solid gray;flex-grow: 1;}#sk-container-id-1 div.sk-label:hover label.sk-toggleable__label {background-color: #d4ebff;}#sk-container-id-1 div.sk-serial::before {content: \"\";position: absolute;border-left: 1px solid gray;box-sizing: border-box;top: 0;bottom: 0;left: 50%;z-index: 0;}#sk-container-id-1 div.sk-serial {display: flex;flex-direction: column;align-items: center;background-color: white;padding-right: 0.2em;padding-left: 0.2em;position: relative;}#sk-container-id-1 div.sk-item {position: relative;z-index: 1;}#sk-container-id-1 div.sk-parallel {display: flex;align-items: stretch;justify-content: center;background-color: white;position: relative;}#sk-container-id-1 div.sk-item::before, #sk-container-id-1 div.sk-parallel-item::before {content: \"\";position: absolute;border-left: 1px solid gray;box-sizing: border-box;top: 0;bottom: 0;left: 50%;z-index: -1;}#sk-container-id-1 div.sk-parallel-item {display: flex;flex-direction: column;z-index: 1;position: relative;background-color: white;}#sk-container-id-1 div.sk-parallel-item:first-child::after {align-self: flex-end;width: 50%;}#sk-container-id-1 div.sk-parallel-item:last-child::after {align-self: flex-start;width: 50%;}#sk-container-id-1 div.sk-parallel-item:only-child::after {width: 0;}#sk-container-id-1 div.sk-dashed-wrapped {border: 1px dashed gray;margin: 0 0.4em 0.5em 0.4em;box-sizing: border-box;padding-bottom: 0.4em;background-color: white;}#sk-container-id-1 div.sk-label label {font-family: monospace;font-weight: bold;display: inline-block;line-height: 1.2em;}#sk-container-id-1 div.sk-label-container {text-align: center;}#sk-container-id-1 div.sk-container {/* jupyter's `normalize.less` sets `[hidden] { display: none; }` but bootstrap.min.css set `[hidden] { display: none !important; }` so we also need the `!important` here to be able to override the default hidden behavior on the sphinx rendered scikit-learn.org. See: https://github.com/scikit-learn/scikit-learn/issues/21755 */display: inline-block !important;position: relative;}#sk-container-id-1 div.sk-text-repr-fallback {display: none;}</style><div id=\"sk-container-id-1\" class=\"sk-top-container\"><div class=\"sk-text-repr-fallback\"><pre>SVC(kernel=&#x27;linear&#x27;)</pre><b>In a Jupyter environment, please rerun this cell to show the HTML representation or trust the notebook. <br />On GitHub, the HTML representation is unable to render, please try loading this page with nbviewer.org.</b></div><div class=\"sk-container\" hidden><div class=\"sk-item\"><div class=\"sk-estimator sk-toggleable\"><input class=\"sk-toggleable__control sk-hidden--visually\" id=\"sk-estimator-id-1\" type=\"checkbox\" checked><label for=\"sk-estimator-id-1\" class=\"sk-toggleable__label sk-toggleable__label-arrow\">SVC</label><div class=\"sk-toggleable__content\"><pre>SVC(kernel=&#x27;linear&#x27;)</pre></div></div></div></div></div>"
      ],
      "text/plain": [
       "SVC(kernel='linear')"
      ]
     },
     "execution_count": 26,
     "metadata": {},
     "output_type": "execute_result"
    }
   ],
   "source": [
    "svmC=svm.SVC(kernel='linear')\n",
    "svmC.fit(x_train,y_train)"
   ]
  },
  {
   "cell_type": "code",
   "execution_count": 27,
   "metadata": {},
   "outputs": [],
   "source": [
    "y_pred=svmC.predict(x_test)"
   ]
  },
  {
   "cell_type": "code",
   "execution_count": 28,
   "metadata": {},
   "outputs": [
    {
     "data": {
      "text/plain": [
       "0.7743083333333334"
      ]
     },
     "execution_count": 28,
     "metadata": {},
     "output_type": "execute_result"
    }
   ],
   "source": [
    "metrics.accuracy_score(y_test,y_pred)"
   ]
  },
  {
   "cell_type": "code",
   "execution_count": 29,
   "metadata": {},
   "outputs": [],
   "source": [
    "file = open('SVM.pickle','wb')\n",
    "pickle.dump(svmC, file)\n",
    "file.close()"
   ]
  },
  {
   "cell_type": "code",
   "execution_count": 2,
   "metadata": {},
   "outputs": [
    {
     "name": "stdout",
     "output_type": "stream",
     "text": [
      "SVC(kernel='linear')\n"
     ]
    }
   ],
   "source": [
    "# Open the pickle file in read-binary mode\n",
    "with open('./SVM.pickle', 'rb') as f:\n",
    "    # Load the object from the pickle file\n",
    "    obj = pickle.load(f)\n",
    "\n",
    "# Now you can use the loaded object\n",
    "# For example, print it\n",
    "print(obj)"
   ]
  },
  {
   "cell_type": "code",
   "execution_count": null,
   "metadata": {},
   "outputs": [],
   "source": [
    "accuracy = metrics.accuracy_score(y_test,y_pred)\n",
    "print('this is accuracy = ', accuracy)"
   ]
  }
 ],
 "metadata": {
  "kernelspec": {
   "display_name": "Python 3",
   "language": "python",
   "name": "python3"
  },
  "language_info": {
   "codemirror_mode": {
    "name": "ipython",
    "version": 3
   },
   "file_extension": ".py",
   "mimetype": "text/x-python",
   "name": "python",
   "nbconvert_exporter": "python",
   "pygments_lexer": "ipython3",
   "version": "3.11.4"
  }
 },
 "nbformat": 4,
 "nbformat_minor": 2
}
